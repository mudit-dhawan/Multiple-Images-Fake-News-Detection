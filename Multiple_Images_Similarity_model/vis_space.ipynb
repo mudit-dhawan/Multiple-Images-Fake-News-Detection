{
 "cells": [
  {
   "cell_type": "code",
   "execution_count": 1,
   "metadata": {},
   "outputs": [],
   "source": [
    "import torch\n",
    "import pandas as pd\n",
    "import numpy as np\n",
    "import transformers\n",
    "import torchvision\n",
    "from torchvision import models, transforms\n",
    "from PIL import Image\n",
    "from skimage import io, transform\n",
    "from torch.utils.data import Dataset, DataLoader\n",
    "from transformers import BertTokenizer\n",
    "import torch.nn as nn\n",
    "import torch.nn.functional as F\n",
    "from transformers import BertModel\n",
    "from transformers import AdamW, get_linear_schedule_with_warmup\n",
    "import random\n",
    "import time\n",
    "import os\n",
    "import re\n",
    "import math\n",
    "from torch.utils.tensorboard import SummaryWriter\n",
    "\n",
    "from mult_img_data_loader import *\n",
    "from multiple_imgs_model import *\n",
    "from train_val import *\n",
    "\n",
    "from utils import *"
   ]
  },
  {
   "cell_type": "code",
   "execution_count": 2,
   "metadata": {},
   "outputs": [
    {
     "name": "stderr",
     "output_type": "stream",
     "text": [
      "/home/muditd/.conda/envs/fn/lib/python3.6/site-packages/PIL/Image.py:952: UserWarning: Palette images with Transparency expressed in bytes should be converted to RGBA images\n",
      "  \"Palette images with Transparency expressed in bytes should be \"\n",
      "/home/muditd/.conda/envs/fn/lib/python3.6/site-packages/PIL/Image.py:2942: UserWarning: image file could not be identified because WEBP support not installed\n",
      "  warnings.warn(message)\n"
     ]
    },
    {
     "name": "stdout",
     "output_type": "stream",
     "text": [
      "There are 1 GPU(s) available.\n",
      "Device name: GeForce GTX 1080 Ti\n"
     ]
    }
   ],
   "source": [
    "csv_name = \"/home/muditd/FakeNewsDetection/datasets/FakeNewsNet/Final_dataset/PoltiFact_data.csv\"\n",
    "\n",
    "df = clean_data(csv_name)\n",
    "\n",
    "## Split data \n",
    "msk = np.random.rand(len(df)) < 0.8\n",
    "df_train = df[msk].reset_index(drop=True) \n",
    "df_test = df[~msk].reset_index(drop=True)\n",
    "\n",
    "\n",
    "if torch.cuda.is_available():       \n",
    "    device = torch.device(\"cuda\")\n",
    "    print(f'There are {torch.cuda.device_count()} GPU(s) available.')\n",
    "    print('Device name:', torch.cuda.get_device_name(0))\n",
    "\n",
    "else:\n",
    "    print('No GPU available, using the CPU instead.')\n",
    "    device = torch.device(\"cpu\")\n",
    "\n",
    "\n",
    "# define a callable image_transform with Compose\n",
    "image_transform = torchvision.transforms.Compose(\n",
    "    [\n",
    "        torchvision.transforms.Resize(size=(224, 224)),\n",
    "        torchvision.transforms.ToTensor(),\n",
    "        transforms.Normalize([0.485, 0.456, 0.406], [0.229, 0.224, 0.225])\n",
    "    ]\n",
    ")\n",
    "# Specify `MAX_LEN`\n",
    "MAX_LEN = 500"
   ]
  },
  {
   "cell_type": "code",
   "execution_count": 3,
   "metadata": {},
   "outputs": [],
   "source": [
    "# Load the BERT tokenizer\n",
    "tokenizer = BertTokenizer.from_pretrained('bert-base-uncased', do_lower_case=True)\n",
    "\n",
    "transformed_dataset_train = FakeNewsDataset(df_train, image_transform, tokenizer, MAX_LEN)\n",
    "train_dataloader = DataLoader(transformed_dataset_train, batch_size=4,\n",
    "                        shuffle=True, num_workers=0)\n",
    "\n",
    "transformed_dataset_val = FakeNewsDataset(df_test, image_transform, tokenizer, MAX_LEN)\n",
    "val_dataloader = DataLoader(transformed_dataset_val, batch_size=4,\n",
    "                        shuffle=True, num_workers=0)"
   ]
  },
  {
   "cell_type": "code",
   "execution_count": 4,
   "metadata": {},
   "outputs": [],
   "source": [
    "# Specify loss function\n",
    "loss_fn = nn.CrossEntropyLoss() ## Fake news detects loss (Sub task 1)\n",
    "\n",
    "pdist = nn.PairwiseDistance(p=2)\n",
    "hinge_loss = nn.HingeEmbeddingLoss(reduction='none')\n",
    "\n",
    "def sim_loss(x, y, pdist, hinge_loss):\n",
    "\n",
    "    centroid = torch.mean(x, dim=1, keepdim=True)\n",
    "\n",
    "    centroid = centroid.repeat(1, x.size(1), 1)\n",
    "\n",
    "    y = y.unsqueeze(1).repeat(1, x.size(1))\n",
    "\n",
    "    batch_size = x.shape[0]\n",
    "\n",
    "    # Squash samples and timesteps into a single axis\n",
    "    x_reshape = x.contiguous().view(-1, x.size(-1))  # (b_s * num_components, latent_dim)\n",
    "\n",
    "    centroid_reshape = centroid.contiguous().view(-1, centroid.size(-1))  # (b_s * num_components, latent_dim)\n",
    "\n",
    "\n",
    "    dist_mat = pdist(x_reshape, centroid_reshape).view(batch_size, -1)\n",
    "    \n",
    "    total_loss = torch.mean(hinge_loss(dist_mat, y), dim=1)\n",
    "    \n",
    "    # total_loss = torch.mean(torch.mean(hinge_loss(dist_mat, y), dim=1))\n",
    "\n",
    "    # dist_mat = torch.cdist(latent_tensors, latent_tensors, p=p)\n",
    "    # idx = torch.nonzero(torch.triu(dist_mat) , as_tuple=True) \n",
    "    # clust_dists = dist_mat[idx[0], idx[1], idx[2]].view(batch_size, -1)\n",
    "    # clust_loss = torch.var(clust_dists, -1, keepdim=True)\n",
    "    # total_loss = torch.mean(clust_loss)\n",
    "\n",
    "    return total_loss \n",
    "\n",
    "\n",
    "\n",
    "def set_seed(seed_value=42):\n",
    "    \"\"\"Set seed for reproducibility.\n",
    "    \"\"\"\n",
    "    random.seed(seed_value)\n",
    "    np.random.seed(seed_value)\n",
    "    torch.manual_seed(seed_value)\n",
    "    torch.cuda.manual_seed_all(seed_value)"
   ]
  },
  {
   "cell_type": "code",
   "execution_count": 5,
   "metadata": {},
   "outputs": [],
   "source": [
    "parameter_dict_model={\n",
    "                'single_enc_img_dim': 4096,\n",
    "                'single_img_fc1_out': 1024,\n",
    "                'single_img_latent_dim': 256,\n",
    "                'hidden_size': 256,\n",
    "                'num_layers': 1,\n",
    "                'multiple_enc_img_dim': 128,\n",
    "                'bidirectional': True,\n",
    "                'text_fc1_out': 512,\n",
    "                'latent_text': 128,\n",
    "                'fine_tune_vgg': True,\n",
    "                'freeze_bert': True,\n",
    "                'multimodal_latent_dim': 128,\n",
    "                'nb_classes': 2,\n",
    "                'latent_fused': 128,\n",
    "                'dropout_p': 0.30,\n",
    "                'num_classes': 2\n",
    "                }\n",
    "\n",
    "set_seed(42)  "
   ]
  },
  {
   "cell_type": "code",
   "execution_count": 6,
   "metadata": {},
   "outputs": [],
   "source": [
    "final_model = Multiple_Images_Model(parameter_dict_model)\n",
    "final_model = final_model.to(device)"
   ]
  },
  {
   "cell_type": "code",
   "execution_count": 30,
   "metadata": {},
   "outputs": [
    {
     "data": {
      "text/plain": [
       "<All keys matched successfully>"
      ]
     },
     "execution_count": 30,
     "metadata": {},
     "output_type": "execute_result"
    }
   ],
   "source": [
    "loaded_variables = torch.load(\"./saved_models/best_model_margin_1_normalize_1.pt\",  map_location=device)\n",
    "final_model.load_state_dict(loaded_variables['model_state_dict'])"
   ]
  },
  {
   "cell_type": "code",
   "execution_count": 31,
   "metadata": {},
   "outputs": [
    {
     "name": "stdout",
     "output_type": "stream",
     "text": [
      "Thu Dec 31 12:55:51 2020       \r\n",
      "+-----------------------------------------------------------------------------+\r\n",
      "| NVIDIA-SMI 440.64.00    Driver Version: 440.64.00    CUDA Version: 10.2     |\r\n",
      "|-------------------------------+----------------------+----------------------+\r\n",
      "| GPU  Name        Persistence-M| Bus-Id        Disp.A | Volatile Uncorr. ECC |\r\n",
      "| Fan  Temp  Perf  Pwr:Usage/Cap|         Memory-Usage | GPU-Util  Compute M. |\r\n",
      "|===============================+======================+======================|\r\n",
      "|   0  GeForce GTX 108...  Off  | 00000000:01:00.0 Off |                  N/A |\r\n",
      "|  0%   43C    P2    65W / 250W |   7393MiB / 11177MiB |      0%      Default |\r\n",
      "+-------------------------------+----------------------+----------------------+\r\n",
      "                                                                               \r\n",
      "+-----------------------------------------------------------------------------+\r\n",
      "| Processes:                                                       GPU Memory |\r\n",
      "|  GPU       PID   Type   Process name                             Usage      |\r\n",
      "|=============================================================================|\r\n",
      "|    0      2006      G   /usr/lib/xorg/Xorg                            45MiB |\r\n",
      "|    0     20941      C   /home/muditd/.conda/envs/fn/bin/python      7335MiB |\r\n",
      "+-----------------------------------------------------------------------------+\r\n"
     ]
    }
   ],
   "source": [
    "!nvidia-smi"
   ]
  },
  {
   "cell_type": "code",
   "execution_count": 32,
   "metadata": {},
   "outputs": [],
   "source": [
    "cols = ['col_'+str(i) for i in range(1,parameter_dict_model['multimodal_latent_dim']+1)]\n",
    "cols += ['sample_no']\n",
    "cols += ['label']\n",
    "df_space = pd.DataFrame(columns=cols)\n",
    "df_mean = pd.DataFrame(columns=cols)"
   ]
  },
  {
   "cell_type": "code",
   "execution_count": 33,
   "metadata": {},
   "outputs": [],
   "source": [
    "import seaborn as sns"
   ]
  },
  {
   "cell_type": "code",
   "execution_count": 34,
   "metadata": {},
   "outputs": [
    {
     "name": "stdout",
     "output_type": "stream",
     "text": [
      "(4, 3, 128)\n",
      "(4, 3, 128)\n",
      "(4, 3, 128)\n",
      "(4, 3, 128)\n",
      "(4, 3, 128)\n",
      "(4, 3, 128)\n",
      "(4, 3, 128)\n",
      "(4, 3, 128)\n"
     ]
    },
    {
     "name": "stderr",
     "output_type": "stream",
     "text": [
      "/home/muditd/.conda/envs/fn/lib/python3.6/site-packages/PIL/Image.py:952: UserWarning:\n",
      "\n",
      "Palette images with Transparency expressed in bytes should be converted to RGBA images\n",
      "\n"
     ]
    },
    {
     "name": "stdout",
     "output_type": "stream",
     "text": [
      "(4, 3, 128)\n",
      "(4, 3, 128)\n",
      "(4, 3, 128)\n",
      "(4, 3, 128)\n",
      "(4, 3, 128)\n",
      "(4, 3, 128)\n",
      "(4, 3, 128)\n",
      "(4, 3, 128)\n",
      "(4, 3, 128)\n",
      "(4, 3, 128)\n",
      "(4, 3, 128)\n",
      "(4, 3, 128)\n",
      "(4, 3, 128)\n",
      "(4, 3, 128)\n",
      "(4, 3, 128)\n",
      "(4, 3, 128)\n",
      "(4, 3, 128)\n",
      "(4, 3, 128)\n",
      "(4, 3, 128)\n",
      "(3, 3, 128)\n"
     ]
    }
   ],
   "source": [
    "i = 0\n",
    "k = 0\n",
    "for batch in val_dataloader:\n",
    "    img_ip , text_ip, label = batch[\"image\"], batch[\"BERT_ip\"], batch['label']\n",
    "\n",
    "    b_input_ids, b_attn_mask = tuple(t.to(device) for t in text_ip)\n",
    "\n",
    "    imgs_ip = img_ip.to(device)\n",
    "\n",
    "    b_labels = label.to(device)\n",
    "\n",
    "    # Compute logits\n",
    "    with torch.no_grad():\n",
    "        logits, latent_vectors = final_model(text=[b_input_ids, b_attn_mask], image=imgs_ip, label=b_labels)\n",
    "    \n",
    "    # Compute loss\n",
    "    loss_sim = sim_loss(latent_vectors, b_labels, pdist, hinge_loss)\n",
    "    \n",
    "    latent_vectors = latent_vectors.cpu().numpy()\n",
    "    print(latent_vectors.shape)\n",
    "    for idx_i in range(latent_vectors.shape[0]):\n",
    "        curr_element = np.mean(latent_vectors[idx_i, :, :], axis=0).tolist()\n",
    "#         print(curr_element, len(curr_element))\n",
    "        curr_element.extend([loss_sim[idx_i].item(), label[idx_i].item()])\n",
    "#         print(curr_element, len(curr_element))\n",
    "        df_mean.loc[i] = curr_element\n",
    "        for idx_j in range(latent_vectors.shape[1]):\n",
    "            curr_element = latent_vectors[idx_i, idx_j, :].tolist()\n",
    "            curr_element.extend([i, label[idx_i]])\n",
    "            df_space.loc[k] = curr_element\n",
    "            k += 1\n",
    "        i += 1\n",
    "#     break"
   ]
  },
  {
   "cell_type": "code",
   "execution_count": 35,
   "metadata": {},
   "outputs": [],
   "source": [
    "from sklearn.manifold import TSNE\n",
    "import matplotlib.pyplot as plt"
   ]
  },
  {
   "cell_type": "code",
   "execution_count": 36,
   "metadata": {},
   "outputs": [],
   "source": [
    "def plot_space(data_subset, Y_hue):\n",
    "    tsne = TSNE(n_components=2, verbose=1, perplexity=40, n_iter=300)\n",
    "    tsne_results = tsne.fit_transform(data_subset)\n",
    "    plt.figure(figsize=(16,10))\n",
    "    sns.scatterplot(\n",
    "        x=tsne_results[:,0], y=tsne_results[:,1],\n",
    "        hue=Y_hue,\n",
    "#         palette=sns.color_palette(\"hls\"),\n",
    "#         legend=\"full\",\n",
    "        alpha=0.3\n",
    "    )"
   ]
  },
  {
   "cell_type": "code",
   "execution_count": 37,
   "metadata": {},
   "outputs": [
    {
     "name": "stdout",
     "output_type": "stream",
     "text": [
      "[t-SNE] Computing 121 nearest neighbors...\n",
      "[t-SNE] Indexed 333 samples in 0.003s...\n",
      "[t-SNE] Computed neighbors for 333 samples in 0.030s...\n",
      "[t-SNE] Computed conditional probabilities for sample 333 / 333\n",
      "[t-SNE] Mean sigma: 0.437010\n",
      "[t-SNE] KL divergence after 250 iterations with early exaggeration: 80.220306\n",
      "[t-SNE] KL divergence after 300 iterations: 1.139223\n"
     ]
    },
    {
     "data": {
      "image/png": "[encoded data removed]",
      "text/plain": [
       "<Figure size 1152x720 with 1 Axes>"
      ]
     },
     "metadata": {
      "needs_background": "light"
     },
     "output_type": "display_data"
    }
   ],
   "source": [
    "X = df_space[['col_'+str(i) for i in range(1,parameter_dict_model['multimodal_latent_dim']+1)]].to_numpy()\n",
    "Y_hue = df_space['sample_no'].to_numpy()\n",
    "plot_space(X, Y_hue)"
   ]
  },
  {
   "cell_type": "code",
   "execution_count": 38,
   "metadata": {},
   "outputs": [
    {
     "data": {
      "text/html": [
       "<div>\n",
       "<style scoped>\n",
       "    .dataframe tbody tr th:only-of-type {\n",
       "        vertical-align: middle;\n",
       "    }\n",
       "\n",
       "    .dataframe tbody tr th {\n",
       "        vertical-align: top;\n",
       "    }\n",
       "\n",
       "    .dataframe thead th {\n",
       "        text-align: right;\n",
       "    }\n",
       "</style>\n",
       "<table border=\"1\" class=\"dataframe\">\n",
       "  <thead>\n",
       "    <tr style=\"text-align: right;\">\n",
       "      <th></th>\n",
       "      <th>col_1</th>\n",
       "      <th>col_2</th>\n",
       "      <th>col_3</th>\n",
       "      <th>col_4</th>\n",
       "      <th>col_5</th>\n",
       "      <th>col_6</th>\n",
       "      <th>col_7</th>\n",
       "      <th>col_8</th>\n",
       "      <th>col_9</th>\n",
       "      <th>col_10</th>\n",
       "      <th>...</th>\n",
       "      <th>col_121</th>\n",
       "      <th>col_122</th>\n",
       "      <th>col_123</th>\n",
       "      <th>col_124</th>\n",
       "      <th>col_125</th>\n",
       "      <th>col_126</th>\n",
       "      <th>col_127</th>\n",
       "      <th>col_128</th>\n",
       "      <th>sample_no</th>\n",
       "      <th>label</th>\n",
       "    </tr>\n",
       "  </thead>\n",
       "  <tbody>\n",
       "    <tr>\n",
       "      <th>0</th>\n",
       "      <td>0.574952</td>\n",
       "      <td>0.506455</td>\n",
       "      <td>-0.461372</td>\n",
       "      <td>0.568728</td>\n",
       "      <td>0.509166</td>\n",
       "      <td>-0.445941</td>\n",
       "      <td>-0.574211</td>\n",
       "      <td>-0.573371</td>\n",
       "      <td>0.574479</td>\n",
       "      <td>0.568242</td>\n",
       "      <td>...</td>\n",
       "      <td>-0.539038</td>\n",
       "      <td>0.566433</td>\n",
       "      <td>-0.573027</td>\n",
       "      <td>-0.567944</td>\n",
       "      <td>-0.546513</td>\n",
       "      <td>0.560657</td>\n",
       "      <td>0.512384</td>\n",
       "      <td>-0.564921</td>\n",
       "      <td>2.431788</td>\n",
       "      <td>1.0</td>\n",
       "    </tr>\n",
       "    <tr>\n",
       "      <th>1</th>\n",
       "      <td>0.570785</td>\n",
       "      <td>0.568276</td>\n",
       "      <td>-0.569141</td>\n",
       "      <td>0.568097</td>\n",
       "      <td>0.570080</td>\n",
       "      <td>-0.570585</td>\n",
       "      <td>-0.570750</td>\n",
       "      <td>-0.515423</td>\n",
       "      <td>0.576958</td>\n",
       "      <td>0.576300</td>\n",
       "      <td>...</td>\n",
       "      <td>-0.575135</td>\n",
       "      <td>0.562134</td>\n",
       "      <td>-0.576877</td>\n",
       "      <td>-0.577260</td>\n",
       "      <td>-0.577244</td>\n",
       "      <td>0.575749</td>\n",
       "      <td>0.552183</td>\n",
       "      <td>-0.575341</td>\n",
       "      <td>1.166317</td>\n",
       "      <td>0.0</td>\n",
       "    </tr>\n",
       "    <tr>\n",
       "      <th>2</th>\n",
       "      <td>0.566232</td>\n",
       "      <td>0.575556</td>\n",
       "      <td>-0.574883</td>\n",
       "      <td>0.565493</td>\n",
       "      <td>0.575519</td>\n",
       "      <td>-0.577183</td>\n",
       "      <td>-0.554131</td>\n",
       "      <td>-0.570986</td>\n",
       "      <td>0.577171</td>\n",
       "      <td>0.576178</td>\n",
       "      <td>...</td>\n",
       "      <td>-0.567694</td>\n",
       "      <td>0.556591</td>\n",
       "      <td>-0.559484</td>\n",
       "      <td>-0.572357</td>\n",
       "      <td>-0.575961</td>\n",
       "      <td>0.569467</td>\n",
       "      <td>0.575645</td>\n",
       "      <td>-0.540899</td>\n",
       "      <td>1.136240</td>\n",
       "      <td>0.0</td>\n",
       "    </tr>\n",
       "    <tr>\n",
       "      <th>3</th>\n",
       "      <td>0.577290</td>\n",
       "      <td>0.500178</td>\n",
       "      <td>-0.480640</td>\n",
       "      <td>0.558448</td>\n",
       "      <td>0.500444</td>\n",
       "      <td>-0.490106</td>\n",
       "      <td>-0.533562</td>\n",
       "      <td>-0.558369</td>\n",
       "      <td>0.569083</td>\n",
       "      <td>0.539997</td>\n",
       "      <td>...</td>\n",
       "      <td>-0.534865</td>\n",
       "      <td>0.567312</td>\n",
       "      <td>-0.573792</td>\n",
       "      <td>-0.560739</td>\n",
       "      <td>-0.520322</td>\n",
       "      <td>0.570580</td>\n",
       "      <td>0.434740</td>\n",
       "      <td>-0.559281</td>\n",
       "      <td>2.606812</td>\n",
       "      <td>1.0</td>\n",
       "    </tr>\n",
       "    <tr>\n",
       "      <th>4</th>\n",
       "      <td>0.565911</td>\n",
       "      <td>0.563793</td>\n",
       "      <td>-0.573642</td>\n",
       "      <td>0.576118</td>\n",
       "      <td>0.573804</td>\n",
       "      <td>-0.577102</td>\n",
       "      <td>-0.559127</td>\n",
       "      <td>-0.573588</td>\n",
       "      <td>0.574904</td>\n",
       "      <td>0.569926</td>\n",
       "      <td>...</td>\n",
       "      <td>-0.574475</td>\n",
       "      <td>0.562590</td>\n",
       "      <td>-0.563945</td>\n",
       "      <td>-0.558951</td>\n",
       "      <td>-0.569011</td>\n",
       "      <td>0.570517</td>\n",
       "      <td>0.529187</td>\n",
       "      <td>-0.575506</td>\n",
       "      <td>1.058979</td>\n",
       "      <td>0.0</td>\n",
       "    </tr>\n",
       "    <tr>\n",
       "      <th>...</th>\n",
       "      <td>...</td>\n",
       "      <td>...</td>\n",
       "      <td>...</td>\n",
       "      <td>...</td>\n",
       "      <td>...</td>\n",
       "      <td>...</td>\n",
       "      <td>...</td>\n",
       "      <td>...</td>\n",
       "      <td>...</td>\n",
       "      <td>...</td>\n",
       "      <td>...</td>\n",
       "      <td>...</td>\n",
       "      <td>...</td>\n",
       "      <td>...</td>\n",
       "      <td>...</td>\n",
       "      <td>...</td>\n",
       "      <td>...</td>\n",
       "      <td>...</td>\n",
       "      <td>...</td>\n",
       "      <td>...</td>\n",
       "      <td>...</td>\n",
       "    </tr>\n",
       "    <tr>\n",
       "      <th>106</th>\n",
       "      <td>0.512703</td>\n",
       "      <td>0.483589</td>\n",
       "      <td>-0.465403</td>\n",
       "      <td>0.568830</td>\n",
       "      <td>0.509164</td>\n",
       "      <td>-0.429424</td>\n",
       "      <td>-0.574905</td>\n",
       "      <td>-0.573912</td>\n",
       "      <td>0.561491</td>\n",
       "      <td>0.548107</td>\n",
       "      <td>...</td>\n",
       "      <td>-0.542084</td>\n",
       "      <td>0.576106</td>\n",
       "      <td>-0.563153</td>\n",
       "      <td>-0.516139</td>\n",
       "      <td>-0.501722</td>\n",
       "      <td>0.574260</td>\n",
       "      <td>0.529657</td>\n",
       "      <td>-0.566461</td>\n",
       "      <td>2.531431</td>\n",
       "      <td>1.0</td>\n",
       "    </tr>\n",
       "    <tr>\n",
       "      <th>107</th>\n",
       "      <td>0.564668</td>\n",
       "      <td>0.574461</td>\n",
       "      <td>-0.571391</td>\n",
       "      <td>0.572751</td>\n",
       "      <td>0.572594</td>\n",
       "      <td>-0.575592</td>\n",
       "      <td>-0.575309</td>\n",
       "      <td>-0.572758</td>\n",
       "      <td>0.570654</td>\n",
       "      <td>0.565787</td>\n",
       "      <td>...</td>\n",
       "      <td>-0.577311</td>\n",
       "      <td>0.577166</td>\n",
       "      <td>-0.574794</td>\n",
       "      <td>-0.572574</td>\n",
       "      <td>-0.572300</td>\n",
       "      <td>0.573936</td>\n",
       "      <td>0.576394</td>\n",
       "      <td>-0.575522</td>\n",
       "      <td>1.000000</td>\n",
       "      <td>0.0</td>\n",
       "    </tr>\n",
       "    <tr>\n",
       "      <th>108</th>\n",
       "      <td>0.545830</td>\n",
       "      <td>0.575096</td>\n",
       "      <td>-0.573017</td>\n",
       "      <td>0.576749</td>\n",
       "      <td>0.577258</td>\n",
       "      <td>-0.576832</td>\n",
       "      <td>-0.577106</td>\n",
       "      <td>-0.570979</td>\n",
       "      <td>0.568698</td>\n",
       "      <td>0.577214</td>\n",
       "      <td>...</td>\n",
       "      <td>-0.570086</td>\n",
       "      <td>0.574937</td>\n",
       "      <td>-0.575828</td>\n",
       "      <td>-0.575032</td>\n",
       "      <td>-0.577202</td>\n",
       "      <td>0.565929</td>\n",
       "      <td>0.544733</td>\n",
       "      <td>-0.576890</td>\n",
       "      <td>1.191485</td>\n",
       "      <td>0.0</td>\n",
       "    </tr>\n",
       "    <tr>\n",
       "      <th>109</th>\n",
       "      <td>0.566480</td>\n",
       "      <td>0.548812</td>\n",
       "      <td>-0.574746</td>\n",
       "      <td>0.570450</td>\n",
       "      <td>0.561861</td>\n",
       "      <td>-0.570152</td>\n",
       "      <td>-0.575353</td>\n",
       "      <td>-0.575458</td>\n",
       "      <td>0.564203</td>\n",
       "      <td>0.570321</td>\n",
       "      <td>...</td>\n",
       "      <td>-0.571376</td>\n",
       "      <td>0.576043</td>\n",
       "      <td>-0.568815</td>\n",
       "      <td>-0.576907</td>\n",
       "      <td>-0.560199</td>\n",
       "      <td>0.577349</td>\n",
       "      <td>0.577269</td>\n",
       "      <td>-0.577012</td>\n",
       "      <td>1.162978</td>\n",
       "      <td>0.0</td>\n",
       "    </tr>\n",
       "    <tr>\n",
       "      <th>110</th>\n",
       "      <td>0.570875</td>\n",
       "      <td>0.488510</td>\n",
       "      <td>-0.464488</td>\n",
       "      <td>0.572740</td>\n",
       "      <td>0.488392</td>\n",
       "      <td>-0.480547</td>\n",
       "      <td>-0.575601</td>\n",
       "      <td>-0.566364</td>\n",
       "      <td>0.573388</td>\n",
       "      <td>0.563225</td>\n",
       "      <td>...</td>\n",
       "      <td>-0.536831</td>\n",
       "      <td>0.571662</td>\n",
       "      <td>-0.576463</td>\n",
       "      <td>-0.575472</td>\n",
       "      <td>-0.524422</td>\n",
       "      <td>0.562405</td>\n",
       "      <td>0.552455</td>\n",
       "      <td>-0.568467</td>\n",
       "      <td>2.448495</td>\n",
       "      <td>1.0</td>\n",
       "    </tr>\n",
       "  </tbody>\n",
       "</table>\n",
       "<p>111 rows × 130 columns</p>\n",
       "</div>"
      ],
      "text/plain": [
       "        col_1     col_2     col_3     col_4     col_5     col_6     col_7  \\\n",
       "0    0.574952  0.506455 -0.461372  0.568728  0.509166 -0.445941 -0.574211   \n",
       "1    0.570785  0.568276 -0.569141  0.568097  0.570080 -0.570585 -0.570750   \n",
       "2    0.566232  0.575556 -0.574883  0.565493  0.575519 -0.577183 -0.554131   \n",
       "3    0.577290  0.500178 -0.480640  0.558448  0.500444 -0.490106 -0.533562   \n",
       "4    0.565911  0.563793 -0.573642  0.576118  0.573804 -0.577102 -0.559127   \n",
       "..        ...       ...       ...       ...       ...       ...       ...   \n",
       "106  0.512703  0.483589 -0.465403  0.568830  0.509164 -0.429424 -0.574905   \n",
       "107  0.564668  0.574461 -0.571391  0.572751  0.572594 -0.575592 -0.575309   \n",
       "108  0.545830  0.575096 -0.573017  0.576749  0.577258 -0.576832 -0.577106   \n",
       "109  0.566480  0.548812 -0.574746  0.570450  0.561861 -0.570152 -0.575353   \n",
       "110  0.570875  0.488510 -0.464488  0.572740  0.488392 -0.480547 -0.575601   \n",
       "\n",
       "        col_8     col_9    col_10  ...   col_121   col_122   col_123  \\\n",
       "0   -0.573371  0.574479  0.568242  ... -0.539038  0.566433 -0.573027   \n",
       "1   -0.515423  0.576958  0.576300  ... -0.575135  0.562134 -0.576877   \n",
       "2   -0.570986  0.577171  0.576178  ... -0.567694  0.556591 -0.559484   \n",
       "3   -0.558369  0.569083  0.539997  ... -0.534865  0.567312 -0.573792   \n",
       "4   -0.573588  0.574904  0.569926  ... -0.574475  0.562590 -0.563945   \n",
       "..        ...       ...       ...  ...       ...       ...       ...   \n",
       "106 -0.573912  0.561491  0.548107  ... -0.542084  0.576106 -0.563153   \n",
       "107 -0.572758  0.570654  0.565787  ... -0.577311  0.577166 -0.574794   \n",
       "108 -0.570979  0.568698  0.577214  ... -0.570086  0.574937 -0.575828   \n",
       "109 -0.575458  0.564203  0.570321  ... -0.571376  0.576043 -0.568815   \n",
       "110 -0.566364  0.573388  0.563225  ... -0.536831  0.571662 -0.576463   \n",
       "\n",
       "      col_124   col_125   col_126   col_127   col_128  sample_no  label  \n",
       "0   -0.567944 -0.546513  0.560657  0.512384 -0.564921   2.431788    1.0  \n",
       "1   -0.577260 -0.577244  0.575749  0.552183 -0.575341   1.166317    0.0  \n",
       "2   -0.572357 -0.575961  0.569467  0.575645 -0.540899   1.136240    0.0  \n",
       "3   -0.560739 -0.520322  0.570580  0.434740 -0.559281   2.606812    1.0  \n",
       "4   -0.558951 -0.569011  0.570517  0.529187 -0.575506   1.058979    0.0  \n",
       "..        ...       ...       ...       ...       ...        ...    ...  \n",
       "106 -0.516139 -0.501722  0.574260  0.529657 -0.566461   2.531431    1.0  \n",
       "107 -0.572574 -0.572300  0.573936  0.576394 -0.575522   1.000000    0.0  \n",
       "108 -0.575032 -0.577202  0.565929  0.544733 -0.576890   1.191485    0.0  \n",
       "109 -0.576907 -0.560199  0.577349  0.577269 -0.577012   1.162978    0.0  \n",
       "110 -0.575472 -0.524422  0.562405  0.552455 -0.568467   2.448495    1.0  \n",
       "\n",
       "[111 rows x 130 columns]"
      ]
     },
     "execution_count": 38,
     "metadata": {},
     "output_type": "execute_result"
    }
   ],
   "source": [
    "df_mean"
   ]
  },
  {
   "cell_type": "code",
   "execution_count": 39,
   "metadata": {},
   "outputs": [],
   "source": [
    "import plotly.express as px"
   ]
  },
  {
   "cell_type": "code",
   "execution_count": 40,
   "metadata": {},
   "outputs": [],
   "source": [
    "def plot_bubbles(data_subset, clust_size, Y_hue):\n",
    "    tsne = TSNE(n_components=2, verbose=1, perplexity=40, n_iter=300)\n",
    "    tsne_results = tsne.fit_transform(data_subset)\n",
    "    fig = px.scatter(x=tsne_results[:,0], y=tsne_results[:,1],\n",
    "                     size=clust_size, color=Y_hue)\n",
    "    fig.show()"
   ]
  },
  {
   "cell_type": "code",
   "execution_count": 41,
   "metadata": {},
   "outputs": [
    {
     "name": "stdout",
     "output_type": "stream",
     "text": [
      "[t-SNE] Computing 110 nearest neighbors...\n",
      "[t-SNE] Indexed 111 samples in 0.000s...\n",
      "[t-SNE] Computed neighbors for 111 samples in 0.014s...\n",
      "[t-SNE] Computed conditional probabilities for sample 111 / 111\n",
      "[t-SNE] Mean sigma: 0.078871\n",
      "[t-SNE] KL divergence after 250 iterations with early exaggeration: 55.417843\n",
      "[t-SNE] KL divergence after 300 iterations: 0.360452\n"
     ]
    },
    {
     "data": {
      "application/vnd.plotly.v1+json": {
       "config": {
        "plotlyServerURL": "https://plot.ly"
       },
       "data": [
        {
         "hovertemplate": "x=%{x}<br>y=%{y}<br>size=%{marker.size}<br>color=%{marker.color}<extra></extra>",
         "legendgroup": "",
         "marker": {
          "color": [
           1,
           0,
           0,
           1,
           0,
           1,
           0,
           1,
           0,
           1,
           0,
           0,
           1,
           0,
           0,
           0,
           1,
           0,
           0,
           0,
           0,
           1,
           1,
           0,
           1,
           0,
           1,
           0,
           0,
           0,
           1,
           0,
           0,
           0,
           0,
           1,
           0,
           1,
           1,
           0,
           1,
           0,
           1,
           1,
           0,
           0,
           0,
           1,
           0,
           1,
           1,
           1,
           0,
           0,
           1,
           1,
           1,
           1,
           0,
           1,
           0,
           1,
           0,
           1,
           0,
           1,
           0,
           1,
           0,
           1,
           1,
           0,
           1,
           1,
           0,
           1,
           0,
           1,
           0,
           1,
           1,
           1,
           0,
           0,
           0,
           1,
           0,
           0,
           1,
           1,
           1,
           1,
           0,
           0,
           0,
           0,
           1,
           0,
           0,
           0,
           0,
           0,
           0,
           0,
           1,
           1,
           1,
           0,
           0,
           0,
           1
          ],
          "coloraxis": "coloraxis",
          "size": [
           2.4317879676818848,
           1.166317343711853,
           1.136240005493164,
           2.6068124771118164,
           1.058978796005249,
           2.4487953186035156,
           1.0379884243011475,
           2.3231756687164307,
           1.0885474681854248,
           2.4754557609558105,
           1.0487691164016724,
           1.0987119674682617,
           2.4109175205230713,
           1.0534061193466187,
           1.186463713645935,
           1.1369149684906006,
           2.3521056175231934,
           1.1400245428085327,
           1.058483600616455,
           1.1692450046539307,
           1.1105854511260986,
           2.4742655754089355,
           2.5581045150756836,
           1.0117881298065186,
           2.529376745223999,
           1.0526872873306274,
           2.358975887298584,
           1.0266876220703125,
           1.0674376487731934,
           1.075648546218872,
           2.537632942199707,
           1.0405985116958618,
           1.2260644435882568,
           1.0521979331970215,
           1.0992735624313354,
           2.1546823978424072,
           1.087386131286621,
           2.4317193031311035,
           2.548107147216797,
           1.0490282773971558,
           2.4679689407348633,
           1.175269603729248,
           2.4004597663879395,
           2.5154147148132324,
           1.022527813911438,
           1.0541056394577026,
           1.198353886604309,
           2.401233196258545,
           1.0167961120605469,
           2.4922850131988525,
           2.4815783500671387,
           2.1670963764190674,
           1.0915035009384155,
           1.0624101161956787,
           2.5709798336029053,
           2.4571340084075928,
           2.499030113220215,
           2.3518271446228027,
           1.2073297500610352,
           2.646756172180176,
           1.063461184501648,
           2.376772880554199,
           1.0831758975982666,
           2.436676025390625,
           1.0375535488128662,
           2.459398031234741,
           1.059826135635376,
           2.280729055404663,
           1.0835431814193726,
           2.385524272918701,
           2.355691432952881,
           1.1785815954208374,
           2.478726863861084,
           2.513622522354126,
           1.1183345317840576,
           2.4899892807006836,
           1.038609266281128,
           1.9117813110351562,
           1.1083897352218628,
           2.476722240447998,
           2.408076047897339,
           2.4094738960266113,
           1.3232533931732178,
           1.0869311094284058,
           1.0654611587524414,
           2.4405455589294434,
           2.376708984375,
           1.0849734544754028,
           2.4212331771850586,
           2.3838000297546387,
           2.48492431640625,
           2.453535795211792,
           1.013489007949829,
           1.2028279304504395,
           1.2526497840881348,
           1.0988812446594238,
           2.390073537826538,
           1,
           1.0121501684188843,
           1.1802181005477905,
           1.0236179828643799,
           1.0120525360107422,
           1.1133487224578857,
           1.3789880275726318,
           2.3474206924438477,
           2.4407832622528076,
           2.531431198120117,
           1,
           1.1914851665496826,
           1.1629778146743774,
           2.448495388031006
          ],
          "sizemode": "area",
          "sizeref": 0.0066168904304504395,
          "symbol": "circle"
         },
         "mode": "markers",
         "name": "",
         "orientation": "v",
         "showlegend": false,
         "type": "scatter",
         "x": [
          -11.640157699584961,
          6.001485824584961,
          13.153979301452637,
          -11.137990951538086,
          7.902011394500732,
          -13.446466445922852,
          10.67589282989502,
          -9.858610153198242,
          10.741498947143555,
          -10.310490608215332,
          10.361916542053223,
          9.12665843963623,
          -10.22647762298584,
          8.337072372436523,
          8.430031776428223,
          7.092186450958252,
          -13.171022415161133,
          7.8850860595703125,
          7.686574459075928,
          7.263440132141113,
          9.377002716064453,
          -11.836020469665527,
          -12.401192665100098,
          9.692755699157715,
          -10.82154369354248,
          9.274593353271484,
          -12.787199020385742,
          8.209980010986328,
          10.92101001739502,
          10.24824047088623,
          -14.474934577941895,
          10.305580139160156,
          10.890140533447266,
          11.675654411315918,
          7.909176826477051,
          -8.67161750793457,
          11.730500221252441,
          -10.286115646362305,
          -15.002137184143066,
          9.79450798034668,
          -10.918241500854492,
          6.01671838760376,
          -11.825359344482422,
          -12.935174942016602,
          9.647347450256348,
          8.638254165649414,
          10.26053237915039,
          -11.813799858093262,
          9.14201831817627,
          -12.104289054870605,
          -13.530174255371094,
          -8.593637466430664,
          8.971692085266113,
          7.871568202972412,
          -11.307353019714355,
          -12.356269836425781,
          -14.440683364868164,
          -13.833773612976074,
          6.046875953674316,
          -11.94224739074707,
          8.897526741027832,
          -10.959184646606445,
          7.131103515625,
          -14.373682022094727,
          9.669366836547852,
          -13.405714988708496,
          11.491025924682617,
          -12.868624687194824,
          10.449926376342773,
          -11.824298858642578,
          -13.682136535644531,
          12.440613746643066,
          -12.070732116699219,
          -15.088459014892578,
          11.354341506958008,
          -13.864242553710938,
          10.06818962097168,
          -7.925815582275391,
          8.51891803741455,
          -9.643617630004883,
          -12.110281944274902,
          -10.492589950561523,
          9.120862007141113,
          8.216553688049316,
          10.675483703613281,
          -10.708490371704102,
          -10.137670516967773,
          9.060439109802246,
          -12.545761108398438,
          -11.4139404296875,
          -12.726001739501953,
          -11.9807710647583,
          12.173748970031738,
          7.547420978546143,
          7.297780990600586,
          12.331798553466797,
          -14.09216594696045,
          10.289793968200684,
          8.94082260131836,
          6.91739559173584,
          10.299786567687988,
          10.254247665405273,
          9.934419631958008,
          12.888649940490723,
          -11.194817543029785,
          -11.33669662475586,
          -12.917887687683105,
          9.950759887695312,
          13.45293140411377,
          12.624049186706543,
          -13.244712829589844
         ],
         "xaxis": "x",
         "y": [
          11.44693374633789,
          -8.014547348022461,
          -8.181953430175781,
          13.47308349609375,
          -9.1791353225708,
          13.732702255249023,
          -8.223456382751465,
          13.187355995178223,
          -12.208038330078125,
          13.626132011413574,
          -10.137630462646484,
          -10.891703605651855,
          12.278421401977539,
          -10.163482666015625,
          -13.119950294494629,
          -8.805402755737305,
          10.994256973266602,
          -11.766541481018066,
          -10.105742454528809,
          -6.824615955352783,
          -11.92281723022461,
          14.176066398620605,
          10.593327522277832,
          -7.698915004730225,
          14.244978904724121,
          -10.876675605773926,
          12.02904987335205,
          -10.860790252685547,
          -10.92930793762207,
          -7.658397197723389,
          11.785911560058594,
          -9.432419776916504,
          -6.361258506774902,
          -10.33582878112793,
          -10.003093719482422,
          10.812803268432617,
          -11.756325721740723,
          12.66706657409668,
          10.477959632873535,
          -9.860335350036621,
          11.903361320495605,
          -5.5580644607543945,
          12.280046463012695,
          12.788921356201172,
          -10.363758087158203,
          -9.089256286621094,
          -13.418217658996582,
          10.825834274291992,
          -9.997859001159668,
          13.511637687683105,
          13.60187816619873,
          11.13973617553711,
          -8.78526782989502,
          -9.618075370788574,
          14.664264678955078,
          12.772378921508789,
          14.109498023986816,
          10.780296325683594,
          -11.264373779296875,
          15.687631607055664,
          -8.49532699584961,
          12.109079360961914,
          -9.792501449584961,
          12.245097160339355,
          -9.848162651062012,
          12.647430419921875,
          -9.825640678405762,
          11.539823532104492,
          -11.038423538208008,
          12.650858879089355,
          10.207515716552734,
          -13.142189979553223,
          12.876262664794922,
          12.017010688781738,
          -9.145869255065918,
          12.065832138061523,
          -9.910784721374512,
          10.9544677734375,
          -11.358911514282227,
          12.686488151550293,
          11.988920211791992,
          10.901224136352539,
          -4.94034481048584,
          -10.805984497070312,
          -9.740236282348633,
          11.601489067077637,
          12.846138000488281,
          -7.358562469482422,
          12.352049827575684,
          12.52321720123291,
          11.211833953857422,
          13.08159351348877,
          -8.081361770629883,
          -12.684001922607422,
          -7.753602504730225,
          -10.725105285644531,
          13.063119888305664,
          -10.25832462310791,
          -9.688932418823242,
          -11.642727851867676,
          -10.664080619812012,
          -8.30538558959961,
          -11.491670608520508,
          -6.8694167137146,
          11.801727294921875,
          11.081063270568848,
          14.2701416015625,
          -9.691590309143066,
          -11.495954513549805,
          -10.041415214538574,
          12.090226173400879
         ],
         "yaxis": "y"
        }
       ],
       "layout": {
        "coloraxis": {
         "colorbar": {
          "title": {
           "text": "color"
          }
         },
         "colorscale": [
          [
           0,
           "#0d0887"
          ],
          [
           0.1111111111111111,
           "#46039f"
          ],
          [
           0.2222222222222222,
           "#7201a8"
          ],
          [
           0.3333333333333333,
           "#9c179e"
          ],
          [
           0.4444444444444444,
           "#bd3786"
          ],
          [
           0.5555555555555556,
           "#d8576b"
          ],
          [
           0.6666666666666666,
           "#ed7953"
          ],
          [
           0.7777777777777778,
           "#fb9f3a"
          ],
          [
           0.8888888888888888,
           "#fdca26"
          ],
          [
           1,
           "#f0f921"
          ]
         ]
        },
        "legend": {
         "itemsizing": "constant",
         "tracegroupgap": 0
        },
        "margin": {
         "t": 60
        },
        "template": {
         "data": {
          "bar": [
           {
            "error_x": {
             "color": "#2a3f5f"
            },
            "error_y": {
             "color": "#2a3f5f"
            },
            "marker": {
             "line": {
              "color": "#E5ECF6",
              "width": 0.5
             }
            },
            "type": "bar"
           }
          ],
          "barpolar": [
           {
            "marker": {
             "line": {
              "color": "#E5ECF6",
              "width": 0.5
             }
            },
            "type": "barpolar"
           }
          ],
          "carpet": [
           {
            "aaxis": {
             "endlinecolor": "#2a3f5f",
             "gridcolor": "white",
             "linecolor": "white",
             "minorgridcolor": "white",
             "startlinecolor": "#2a3f5f"
            },
            "baxis": {
             "endlinecolor": "#2a3f5f",
             "gridcolor": "white",
             "linecolor": "white",
             "minorgridcolor": "white",
             "startlinecolor": "#2a3f5f"
            },
            "type": "carpet"
           }
          ],
          "choropleth": [
           {
            "colorbar": {
             "outlinewidth": 0,
             "ticks": ""
            },
            "type": "choropleth"
           }
          ],
          "contour": [
           {
            "colorbar": {
             "outlinewidth": 0,
             "ticks": ""
            },
            "colorscale": [
             [
              0,
              "#0d0887"
             ],
             [
              0.1111111111111111,
              "#46039f"
             ],
             [
              0.2222222222222222,
              "#7201a8"
             ],
             [
              0.3333333333333333,
              "#9c179e"
             ],
             [
              0.4444444444444444,
              "#bd3786"
             ],
             [
              0.5555555555555556,
              "#d8576b"
             ],
             [
              0.6666666666666666,
              "#ed7953"
             ],
             [
              0.7777777777777778,
              "#fb9f3a"
             ],
             [
              0.8888888888888888,
              "#fdca26"
             ],
             [
              1,
              "#f0f921"
             ]
            ],
            "type": "contour"
           }
          ],
          "contourcarpet": [
           {
            "colorbar": {
             "outlinewidth": 0,
             "ticks": ""
            },
            "type": "contourcarpet"
           }
          ],
          "heatmap": [
           {
            "colorbar": {
             "outlinewidth": 0,
             "ticks": ""
            },
            "colorscale": [
             [
              0,
              "#0d0887"
             ],
             [
              0.1111111111111111,
              "#46039f"
             ],
             [
              0.2222222222222222,
              "#7201a8"
             ],
             [
              0.3333333333333333,
              "#9c179e"
             ],
             [
              0.4444444444444444,
              "#bd3786"
             ],
             [
              0.5555555555555556,
              "#d8576b"
             ],
             [
              0.6666666666666666,
              "#ed7953"
             ],
             [
              0.7777777777777778,
              "#fb9f3a"
             ],
             [
              0.8888888888888888,
              "#fdca26"
             ],
             [
              1,
              "#f0f921"
             ]
            ],
            "type": "heatmap"
           }
          ],
          "heatmapgl": [
           {
            "colorbar": {
             "outlinewidth": 0,
             "ticks": ""
            },
            "colorscale": [
             [
              0,
              "#0d0887"
             ],
             [
              0.1111111111111111,
              "#46039f"
             ],
             [
              0.2222222222222222,
              "#7201a8"
             ],
             [
              0.3333333333333333,
              "#9c179e"
             ],
             [
              0.4444444444444444,
              "#bd3786"
             ],
             [
              0.5555555555555556,
              "#d8576b"
             ],
             [
              0.6666666666666666,
              "#ed7953"
             ],
             [
              0.7777777777777778,
              "#fb9f3a"
             ],
             [
              0.8888888888888888,
              "#fdca26"
             ],
             [
              1,
              "#f0f921"
             ]
            ],
            "type": "heatmapgl"
           }
          ],
          "histogram": [
           {
            "marker": {
             "colorbar": {
              "outlinewidth": 0,
              "ticks": ""
             }
            },
            "type": "histogram"
           }
          ],
          "histogram2d": [
           {
            "colorbar": {
             "outlinewidth": 0,
             "ticks": ""
            },
            "colorscale": [
             [
              0,
              "#0d0887"
             ],
             [
              0.1111111111111111,
              "#46039f"
             ],
             [
              0.2222222222222222,
              "#7201a8"
             ],
             [
              0.3333333333333333,
              "#9c179e"
             ],
             [
              0.4444444444444444,
              "#bd3786"
             ],
             [
              0.5555555555555556,
              "#d8576b"
             ],
             [
              0.6666666666666666,
              "#ed7953"
             ],
             [
              0.7777777777777778,
              "#fb9f3a"
             ],
             [
              0.8888888888888888,
              "#fdca26"
             ],
             [
              1,
              "#f0f921"
             ]
            ],
            "type": "histogram2d"
           }
          ],
          "histogram2dcontour": [
           {
            "colorbar": {
             "outlinewidth": 0,
             "ticks": ""
            },
            "colorscale": [
             [
              0,
              "#0d0887"
             ],
             [
              0.1111111111111111,
              "#46039f"
             ],
             [
              0.2222222222222222,
              "#7201a8"
             ],
             [
              0.3333333333333333,
              "#9c179e"
             ],
             [
              0.4444444444444444,
              "#bd3786"
             ],
             [
              0.5555555555555556,
              "#d8576b"
             ],
             [
              0.6666666666666666,
              "#ed7953"
             ],
             [
              0.7777777777777778,
              "#fb9f3a"
             ],
             [
              0.8888888888888888,
              "#fdca26"
             ],
             [
              1,
              "#f0f921"
             ]
            ],
            "type": "histogram2dcontour"
           }
          ],
          "mesh3d": [
           {
            "colorbar": {
             "outlinewidth": 0,
             "ticks": ""
            },
            "type": "mesh3d"
           }
          ],
          "parcoords": [
           {
            "line": {
             "colorbar": {
              "outlinewidth": 0,
              "ticks": ""
             }
            },
            "type": "parcoords"
           }
          ],
          "pie": [
           {
            "automargin": true,
            "type": "pie"
           }
          ],
          "scatter": [
           {
            "marker": {
             "colorbar": {
              "outlinewidth": 0,
              "ticks": ""
             }
            },
            "type": "scatter"
           }
          ],
          "scatter3d": [
           {
            "line": {
             "colorbar": {
              "outlinewidth": 0,
              "ticks": ""
             }
            },
            "marker": {
             "colorbar": {
              "outlinewidth": 0,
              "ticks": ""
             }
            },
            "type": "scatter3d"
           }
          ],
          "scattercarpet": [
           {
            "marker": {
             "colorbar": {
              "outlinewidth": 0,
              "ticks": ""
             }
            },
            "type": "scattercarpet"
           }
          ],
          "scattergeo": [
           {
            "marker": {
             "colorbar": {
              "outlinewidth": 0,
              "ticks": ""
             }
            },
            "type": "scattergeo"
           }
          ],
          "scattergl": [
           {
            "marker": {
             "colorbar": {
              "outlinewidth": 0,
              "ticks": ""
             }
            },
            "type": "scattergl"
           }
          ],
          "scattermapbox": [
           {
            "marker": {
             "colorbar": {
              "outlinewidth": 0,
              "ticks": ""
             }
            },
            "type": "scattermapbox"
           }
          ],
          "scatterpolar": [
           {
            "marker": {
             "colorbar": {
              "outlinewidth": 0,
              "ticks": ""
             }
            },
            "type": "scatterpolar"
           }
          ],
          "scatterpolargl": [
           {
            "marker": {
             "colorbar": {
              "outlinewidth": 0,
              "ticks": ""
             }
            },
            "type": "scatterpolargl"
           }
          ],
          "scatterternary": [
           {
            "marker": {
             "colorbar": {
              "outlinewidth": 0,
              "ticks": ""
             }
            },
            "type": "scatterternary"
           }
          ],
          "surface": [
           {
            "colorbar": {
             "outlinewidth": 0,
             "ticks": ""
            },
            "colorscale": [
             [
              0,
              "#0d0887"
             ],
             [
              0.1111111111111111,
              "#46039f"
             ],
             [
              0.2222222222222222,
              "#7201a8"
             ],
             [
              0.3333333333333333,
              "#9c179e"
             ],
             [
              0.4444444444444444,
              "#bd3786"
             ],
             [
              0.5555555555555556,
              "#d8576b"
             ],
             [
              0.6666666666666666,
              "#ed7953"
             ],
             [
              0.7777777777777778,
              "#fb9f3a"
             ],
             [
              0.8888888888888888,
              "#fdca26"
             ],
             [
              1,
              "#f0f921"
             ]
            ],
            "type": "surface"
           }
          ],
          "table": [
           {
            "cells": {
             "fill": {
              "color": "#EBF0F8"
             },
             "line": {
              "color": "white"
             }
            },
            "header": {
             "fill": {
              "color": "#C8D4E3"
             },
             "line": {
              "color": "white"
             }
            },
            "type": "table"
           }
          ]
         },
         "layout": {
          "annotationdefaults": {
           "arrowcolor": "#2a3f5f",
           "arrowhead": 0,
           "arrowwidth": 1
          },
          "autotypenumbers": "strict",
          "coloraxis": {
           "colorbar": {
            "outlinewidth": 0,
            "ticks": ""
           }
          },
          "colorscale": {
           "diverging": [
            [
             0,
             "#8e0152"
            ],
            [
             0.1,
             "#c51b7d"
            ],
            [
             0.2,
             "#de77ae"
            ],
            [
             0.3,
             "#f1b6da"
            ],
            [
             0.4,
             "#fde0ef"
            ],
            [
             0.5,
             "#f7f7f7"
            ],
            [
             0.6,
             "#e6f5d0"
            ],
            [
             0.7,
             "#b8e186"
            ],
            [
             0.8,
             "#7fbc41"
            ],
            [
             0.9,
             "#4d9221"
            ],
            [
             1,
             "#276419"
            ]
           ],
           "sequential": [
            [
             0,
             "#0d0887"
            ],
            [
             0.1111111111111111,
             "#46039f"
            ],
            [
             0.2222222222222222,
             "#7201a8"
            ],
            [
             0.3333333333333333,
             "#9c179e"
            ],
            [
             0.4444444444444444,
             "#bd3786"
            ],
            [
             0.5555555555555556,
             "#d8576b"
            ],
            [
             0.6666666666666666,
             "#ed7953"
            ],
            [
             0.7777777777777778,
             "#fb9f3a"
            ],
            [
             0.8888888888888888,
             "#fdca26"
            ],
            [
             1,
             "#f0f921"
            ]
           ],
           "sequentialminus": [
            [
             0,
             "#0d0887"
            ],
            [
             0.1111111111111111,
             "#46039f"
            ],
            [
             0.2222222222222222,
             "#7201a8"
            ],
            [
             0.3333333333333333,
             "#9c179e"
            ],
            [
             0.4444444444444444,
             "#bd3786"
            ],
            [
             0.5555555555555556,
             "#d8576b"
            ],
            [
             0.6666666666666666,
             "#ed7953"
            ],
            [
             0.7777777777777778,
             "#fb9f3a"
            ],
            [
             0.8888888888888888,
             "#fdca26"
            ],
            [
             1,
             "#f0f921"
            ]
           ]
          },
          "colorway": [
           "#636efa",
           "#EF553B",
           "#00cc96",
           "#ab63fa",
           "#FFA15A",
           "#19d3f3",
           "#FF6692",
           "#B6E880",
           "#FF97FF",
           "#FECB52"
          ],
          "font": {
           "color": "#2a3f5f"
          },
          "geo": {
           "bgcolor": "white",
           "lakecolor": "white",
           "landcolor": "#E5ECF6",
           "showlakes": true,
           "showland": true,
           "subunitcolor": "white"
          },
          "hoverlabel": {
           "align": "left"
          },
          "hovermode": "closest",
          "mapbox": {
           "style": "light"
          },
          "paper_bgcolor": "white",
          "plot_bgcolor": "#E5ECF6",
          "polar": {
           "angularaxis": {
            "gridcolor": "white",
            "linecolor": "white",
            "ticks": ""
           },
           "bgcolor": "#E5ECF6",
           "radialaxis": {
            "gridcolor": "white",
            "linecolor": "white",
            "ticks": ""
           }
          },
          "scene": {
           "xaxis": {
            "backgroundcolor": "#E5ECF6",
            "gridcolor": "white",
            "gridwidth": 2,
            "linecolor": "white",
            "showbackground": true,
            "ticks": "",
            "zerolinecolor": "white"
           },
           "yaxis": {
            "backgroundcolor": "#E5ECF6",
            "gridcolor": "white",
            "gridwidth": 2,
            "linecolor": "white",
            "showbackground": true,
            "ticks": "",
            "zerolinecolor": "white"
           },
           "zaxis": {
            "backgroundcolor": "#E5ECF6",
            "gridcolor": "white",
            "gridwidth": 2,
            "linecolor": "white",
            "showbackground": true,
            "ticks": "",
            "zerolinecolor": "white"
           }
          },
          "shapedefaults": {
           "line": {
            "color": "#2a3f5f"
           }
          },
          "ternary": {
           "aaxis": {
            "gridcolor": "white",
            "linecolor": "white",
            "ticks": ""
           },
           "baxis": {
            "gridcolor": "white",
            "linecolor": "white",
            "ticks": ""
           },
           "bgcolor": "#E5ECF6",
           "caxis": {
            "gridcolor": "white",
            "linecolor": "white",
            "ticks": ""
           }
          },
          "title": {
           "x": 0.05
          },
          "xaxis": {
           "automargin": true,
           "gridcolor": "white",
           "linecolor": "white",
           "ticks": "",
           "title": {
            "standoff": 15
           },
           "zerolinecolor": "white",
           "zerolinewidth": 2
          },
          "yaxis": {
           "automargin": true,
           "gridcolor": "white",
           "linecolor": "white",
           "ticks": "",
           "title": {
            "standoff": 15
           },
           "zerolinecolor": "white",
           "zerolinewidth": 2
          }
         }
        },
        "xaxis": {
         "anchor": "y",
         "domain": [
          0,
          1
         ],
         "title": {
          "text": "x"
         }
        },
        "yaxis": {
         "anchor": "x",
         "domain": [
          0,
          1
         ],
         "title": {
          "text": "y"
         }
        }
       }
      },
      "text/html": [
       "<div>                            <div id=\"f1c123ca-aa2f-42b5-8d66-7ea836e2c325\" class=\"plotly-graph-div\" style=\"height:525px; width:100%;\"></div>            <script type=\"text/javascript\">                require([\"plotly\"], function(Plotly) {                    window.PLOTLYENV=window.PLOTLYENV || {};                                    if (document.getElementById(\"f1c123ca-aa2f-42b5-8d66-7ea836e2c325\")) {                    Plotly.newPlot(                        \"f1c123ca-aa2f-42b5-8d66-7ea836e2c325\",                        [{\"hovertemplate\": \"x=%{x}<br>y=%{y}<br>size=%{marker.size}<br>color=%{marker.color}<extra></extra>\", \"legendgroup\": \"\", \"marker\": {\"color\": [1.0, 0.0, 0.0, 1.0, 0.0, 1.0, 0.0, 1.0, 0.0, 1.0, 0.0, 0.0, 1.0, 0.0, 0.0, 0.0, 1.0, 0.0, 0.0, 0.0, 0.0, 1.0, 1.0, 0.0, 1.0, 0.0, 1.0, 0.0, 0.0, 0.0, 1.0, 0.0, 0.0, 0.0, 0.0, 1.0, 0.0, 1.0, 1.0, 0.0, 1.0, 0.0, 1.0, 1.0, 0.0, 0.0, 0.0, 1.0, 0.0, 1.0, 1.0, 1.0, 0.0, 0.0, 1.0, 1.0, 1.0, 1.0, 0.0, 1.0, 0.0, 1.0, 0.0, 1.0, 0.0, 1.0, 0.0, 1.0, 0.0, 1.0, 1.0, 0.0, 1.0, 1.0, 0.0, 1.0, 0.0, 1.0, 0.0, 1.0, 1.0, 1.0, 0.0, 0.0, 0.0, 1.0, 0.0, 0.0, 1.0, 1.0, 1.0, 1.0, 0.0, 0.0, 0.0, 0.0, 1.0, 0.0, 0.0, 0.0, 0.0, 0.0, 0.0, 0.0, 1.0, 1.0, 1.0, 0.0, 0.0, 0.0, 1.0], \"coloraxis\": \"coloraxis\", \"size\": [2.4317879676818848, 1.166317343711853, 1.136240005493164, 2.6068124771118164, 1.058978796005249, 2.4487953186035156, 1.0379884243011475, 2.3231756687164307, 1.0885474681854248, 2.4754557609558105, 1.0487691164016724, 1.0987119674682617, 2.4109175205230713, 1.0534061193466187, 1.186463713645935, 1.1369149684906006, 2.3521056175231934, 1.1400245428085327, 1.058483600616455, 1.1692450046539307, 1.1105854511260986, 2.4742655754089355, 2.5581045150756836, 1.0117881298065186, 2.529376745223999, 1.0526872873306274, 2.358975887298584, 1.0266876220703125, 1.0674376487731934, 1.075648546218872, 2.537632942199707, 1.0405985116958618, 1.2260644435882568, 1.0521979331970215, 1.0992735624313354, 2.1546823978424072, 1.087386131286621, 2.4317193031311035, 2.548107147216797, 1.0490282773971558, 2.4679689407348633, 1.175269603729248, 2.4004597663879395, 2.5154147148132324, 1.022527813911438, 1.0541056394577026, 1.198353886604309, 2.401233196258545, 1.0167961120605469, 2.4922850131988525, 2.4815783500671387, 2.1670963764190674, 1.0915035009384155, 1.0624101161956787, 2.5709798336029053, 2.4571340084075928, 2.499030113220215, 2.3518271446228027, 1.2073297500610352, 2.646756172180176, 1.063461184501648, 2.376772880554199, 1.0831758975982666, 2.436676025390625, 1.0375535488128662, 2.459398031234741, 1.059826135635376, 2.280729055404663, 1.0835431814193726, 2.385524272918701, 2.355691432952881, 1.1785815954208374, 2.478726863861084, 2.513622522354126, 1.1183345317840576, 2.4899892807006836, 1.038609266281128, 1.9117813110351562, 1.1083897352218628, 2.476722240447998, 2.408076047897339, 2.4094738960266113, 1.3232533931732178, 1.0869311094284058, 1.0654611587524414, 2.4405455589294434, 2.376708984375, 1.0849734544754028, 2.4212331771850586, 2.3838000297546387, 2.48492431640625, 2.453535795211792, 1.013489007949829, 1.2028279304504395, 1.2526497840881348, 1.0988812446594238, 2.390073537826538, 1.0, 1.0121501684188843, 1.1802181005477905, 1.0236179828643799, 1.0120525360107422, 1.1133487224578857, 1.3789880275726318, 2.3474206924438477, 2.4407832622528076, 2.531431198120117, 1.0, 1.1914851665496826, 1.1629778146743774, 2.448495388031006], \"sizemode\": \"area\", \"sizeref\": 0.0066168904304504395, \"symbol\": \"circle\"}, \"mode\": \"markers\", \"name\": \"\", \"orientation\": \"v\", \"showlegend\": false, \"type\": \"scatter\", \"x\": [-11.640157699584961, 6.001485824584961, 13.153979301452637, -11.137990951538086, 7.902011394500732, -13.446466445922852, 10.67589282989502, -9.858610153198242, 10.741498947143555, -10.310490608215332, 10.361916542053223, 9.12665843963623, -10.22647762298584, 8.337072372436523, 8.430031776428223, 7.092186450958252, -13.171022415161133, 7.8850860595703125, 7.686574459075928, 7.263440132141113, 9.377002716064453, -11.836020469665527, -12.401192665100098, 9.692755699157715, -10.82154369354248, 9.274593353271484, -12.787199020385742, 8.209980010986328, 10.92101001739502, 10.24824047088623, -14.474934577941895, 10.305580139160156, 10.890140533447266, 11.675654411315918, 7.909176826477051, -8.67161750793457, 11.730500221252441, -10.286115646362305, -15.002137184143066, 9.79450798034668, -10.918241500854492, 6.01671838760376, -11.825359344482422, -12.935174942016602, 9.647347450256348, 8.638254165649414, 10.26053237915039, -11.813799858093262, 9.14201831817627, -12.104289054870605, -13.530174255371094, -8.593637466430664, 8.971692085266113, 7.871568202972412, -11.307353019714355, -12.356269836425781, -14.440683364868164, -13.833773612976074, 6.046875953674316, -11.94224739074707, 8.897526741027832, -10.959184646606445, 7.131103515625, -14.373682022094727, 9.669366836547852, -13.405714988708496, 11.491025924682617, -12.868624687194824, 10.449926376342773, -11.824298858642578, -13.682136535644531, 12.440613746643066, -12.070732116699219, -15.088459014892578, 11.354341506958008, -13.864242553710938, 10.06818962097168, -7.925815582275391, 8.51891803741455, -9.643617630004883, -12.110281944274902, -10.492589950561523, 9.120862007141113, 8.216553688049316, 10.675483703613281, -10.708490371704102, -10.137670516967773, 9.060439109802246, -12.545761108398438, -11.4139404296875, -12.726001739501953, -11.9807710647583, 12.173748970031738, 7.547420978546143, 7.297780990600586, 12.331798553466797, -14.09216594696045, 10.289793968200684, 8.94082260131836, 6.91739559173584, 10.299786567687988, 10.254247665405273, 9.934419631958008, 12.888649940490723, -11.194817543029785, -11.33669662475586, -12.917887687683105, 9.950759887695312, 13.45293140411377, 12.624049186706543, -13.244712829589844], \"xaxis\": \"x\", \"y\": [11.44693374633789, -8.014547348022461, -8.181953430175781, 13.47308349609375, -9.1791353225708, 13.732702255249023, -8.223456382751465, 13.187355995178223, -12.208038330078125, 13.626132011413574, -10.137630462646484, -10.891703605651855, 12.278421401977539, -10.163482666015625, -13.119950294494629, -8.805402755737305, 10.994256973266602, -11.766541481018066, -10.105742454528809, -6.824615955352783, -11.92281723022461, 14.176066398620605, 10.593327522277832, -7.698915004730225, 14.244978904724121, -10.876675605773926, 12.02904987335205, -10.860790252685547, -10.92930793762207, -7.658397197723389, 11.785911560058594, -9.432419776916504, -6.361258506774902, -10.33582878112793, -10.003093719482422, 10.812803268432617, -11.756325721740723, 12.66706657409668, 10.477959632873535, -9.860335350036621, 11.903361320495605, -5.5580644607543945, 12.280046463012695, 12.788921356201172, -10.363758087158203, -9.089256286621094, -13.418217658996582, 10.825834274291992, -9.997859001159668, 13.511637687683105, 13.60187816619873, 11.13973617553711, -8.78526782989502, -9.618075370788574, 14.664264678955078, 12.772378921508789, 14.109498023986816, 10.780296325683594, -11.264373779296875, 15.687631607055664, -8.49532699584961, 12.109079360961914, -9.792501449584961, 12.245097160339355, -9.848162651062012, 12.647430419921875, -9.825640678405762, 11.539823532104492, -11.038423538208008, 12.650858879089355, 10.207515716552734, -13.142189979553223, 12.876262664794922, 12.017010688781738, -9.145869255065918, 12.065832138061523, -9.910784721374512, 10.9544677734375, -11.358911514282227, 12.686488151550293, 11.988920211791992, 10.901224136352539, -4.94034481048584, -10.805984497070312, -9.740236282348633, 11.601489067077637, 12.846138000488281, -7.358562469482422, 12.352049827575684, 12.52321720123291, 11.211833953857422, 13.08159351348877, -8.081361770629883, -12.684001922607422, -7.753602504730225, -10.725105285644531, 13.063119888305664, -10.25832462310791, -9.688932418823242, -11.642727851867676, -10.664080619812012, -8.30538558959961, -11.491670608520508, -6.8694167137146, 11.801727294921875, 11.081063270568848, 14.2701416015625, -9.691590309143066, -11.495954513549805, -10.041415214538574, 12.090226173400879], \"yaxis\": \"y\"}],                        {\"coloraxis\": {\"colorbar\": {\"title\": {\"text\": \"color\"}}, \"colorscale\": [[0.0, \"#0d0887\"], [0.1111111111111111, \"#46039f\"], [0.2222222222222222, \"#7201a8\"], [0.3333333333333333, \"#9c179e\"], [0.4444444444444444, \"#bd3786\"], [0.5555555555555556, \"#d8576b\"], [0.6666666666666666, \"#ed7953\"], [0.7777777777777778, \"#fb9f3a\"], [0.8888888888888888, \"#fdca26\"], [1.0, \"#f0f921\"]]}, \"legend\": {\"itemsizing\": \"constant\", \"tracegroupgap\": 0}, \"margin\": {\"t\": 60}, \"template\": {\"data\": {\"bar\": [{\"error_x\": {\"color\": \"#2a3f5f\"}, \"error_y\": {\"color\": \"#2a3f5f\"}, \"marker\": {\"line\": {\"color\": \"#E5ECF6\", \"width\": 0.5}}, \"type\": \"bar\"}], \"barpolar\": [{\"marker\": {\"line\": {\"color\": \"#E5ECF6\", \"width\": 0.5}}, \"type\": \"barpolar\"}], \"carpet\": [{\"aaxis\": {\"endlinecolor\": \"#2a3f5f\", \"gridcolor\": \"white\", \"linecolor\": \"white\", \"minorgridcolor\": \"white\", \"startlinecolor\": \"#2a3f5f\"}, \"baxis\": {\"endlinecolor\": \"#2a3f5f\", \"gridcolor\": \"white\", \"linecolor\": \"white\", \"minorgridcolor\": \"white\", \"startlinecolor\": \"#2a3f5f\"}, \"type\": \"carpet\"}], \"choropleth\": [{\"colorbar\": {\"outlinewidth\": 0, \"ticks\": \"\"}, \"type\": \"choropleth\"}], \"contour\": [{\"colorbar\": {\"outlinewidth\": 0, \"ticks\": \"\"}, \"colorscale\": [[0.0, \"#0d0887\"], [0.1111111111111111, \"#46039f\"], [0.2222222222222222, \"#7201a8\"], [0.3333333333333333, \"#9c179e\"], [0.4444444444444444, \"#bd3786\"], [0.5555555555555556, \"#d8576b\"], [0.6666666666666666, \"#ed7953\"], [0.7777777777777778, \"#fb9f3a\"], [0.8888888888888888, \"#fdca26\"], [1.0, \"#f0f921\"]], \"type\": \"contour\"}], \"contourcarpet\": [{\"colorbar\": {\"outlinewidth\": 0, \"ticks\": \"\"}, \"type\": \"contourcarpet\"}], \"heatmap\": [{\"colorbar\": {\"outlinewidth\": 0, \"ticks\": \"\"}, \"colorscale\": [[0.0, \"#0d0887\"], [0.1111111111111111, \"#46039f\"], [0.2222222222222222, \"#7201a8\"], [0.3333333333333333, \"#9c179e\"], [0.4444444444444444, \"#bd3786\"], [0.5555555555555556, \"#d8576b\"], [0.6666666666666666, \"#ed7953\"], [0.7777777777777778, \"#fb9f3a\"], [0.8888888888888888, \"#fdca26\"], [1.0, \"#f0f921\"]], \"type\": \"heatmap\"}], \"heatmapgl\": [{\"colorbar\": {\"outlinewidth\": 0, \"ticks\": \"\"}, \"colorscale\": [[0.0, \"#0d0887\"], [0.1111111111111111, \"#46039f\"], [0.2222222222222222, \"#7201a8\"], [0.3333333333333333, \"#9c179e\"], [0.4444444444444444, \"#bd3786\"], [0.5555555555555556, \"#d8576b\"], [0.6666666666666666, \"#ed7953\"], [0.7777777777777778, \"#fb9f3a\"], [0.8888888888888888, \"#fdca26\"], [1.0, \"#f0f921\"]], \"type\": \"heatmapgl\"}], \"histogram\": [{\"marker\": {\"colorbar\": {\"outlinewidth\": 0, \"ticks\": \"\"}}, \"type\": \"histogram\"}], \"histogram2d\": [{\"colorbar\": {\"outlinewidth\": 0, \"ticks\": \"\"}, \"colorscale\": [[0.0, \"#0d0887\"], [0.1111111111111111, \"#46039f\"], [0.2222222222222222, \"#7201a8\"], [0.3333333333333333, \"#9c179e\"], [0.4444444444444444, \"#bd3786\"], [0.5555555555555556, \"#d8576b\"], [0.6666666666666666, \"#ed7953\"], [0.7777777777777778, \"#fb9f3a\"], [0.8888888888888888, \"#fdca26\"], [1.0, \"#f0f921\"]], \"type\": \"histogram2d\"}], \"histogram2dcontour\": [{\"colorbar\": {\"outlinewidth\": 0, \"ticks\": \"\"}, \"colorscale\": [[0.0, \"#0d0887\"], [0.1111111111111111, \"#46039f\"], [0.2222222222222222, \"#7201a8\"], [0.3333333333333333, \"#9c179e\"], [0.4444444444444444, \"#bd3786\"], [0.5555555555555556, \"#d8576b\"], [0.6666666666666666, \"#ed7953\"], [0.7777777777777778, \"#fb9f3a\"], [0.8888888888888888, \"#fdca26\"], [1.0, \"#f0f921\"]], \"type\": \"histogram2dcontour\"}], \"mesh3d\": [{\"colorbar\": {\"outlinewidth\": 0, \"ticks\": \"\"}, \"type\": \"mesh3d\"}], \"parcoords\": [{\"line\": {\"colorbar\": {\"outlinewidth\": 0, \"ticks\": \"\"}}, \"type\": \"parcoords\"}], \"pie\": [{\"automargin\": true, \"type\": \"pie\"}], \"scatter\": [{\"marker\": {\"colorbar\": {\"outlinewidth\": 0, \"ticks\": \"\"}}, \"type\": \"scatter\"}], \"scatter3d\": [{\"line\": {\"colorbar\": {\"outlinewidth\": 0, \"ticks\": \"\"}}, \"marker\": {\"colorbar\": {\"outlinewidth\": 0, \"ticks\": \"\"}}, \"type\": \"scatter3d\"}], \"scattercarpet\": [{\"marker\": {\"colorbar\": {\"outlinewidth\": 0, \"ticks\": \"\"}}, \"type\": \"scattercarpet\"}], \"scattergeo\": [{\"marker\": {\"colorbar\": {\"outlinewidth\": 0, \"ticks\": \"\"}}, \"type\": \"scattergeo\"}], \"scattergl\": [{\"marker\": {\"colorbar\": {\"outlinewidth\": 0, \"ticks\": \"\"}}, \"type\": \"scattergl\"}], \"scattermapbox\": [{\"marker\": {\"colorbar\": {\"outlinewidth\": 0, \"ticks\": \"\"}}, \"type\": \"scattermapbox\"}], \"scatterpolar\": [{\"marker\": {\"colorbar\": {\"outlinewidth\": 0, \"ticks\": \"\"}}, \"type\": \"scatterpolar\"}], \"scatterpolargl\": [{\"marker\": {\"colorbar\": {\"outlinewidth\": 0, \"ticks\": \"\"}}, \"type\": \"scatterpolargl\"}], \"scatterternary\": [{\"marker\": {\"colorbar\": {\"outlinewidth\": 0, \"ticks\": \"\"}}, \"type\": \"scatterternary\"}], \"surface\": [{\"colorbar\": {\"outlinewidth\": 0, \"ticks\": \"\"}, \"colorscale\": [[0.0, \"#0d0887\"], [0.1111111111111111, \"#46039f\"], [0.2222222222222222, \"#7201a8\"], [0.3333333333333333, \"#9c179e\"], [0.4444444444444444, \"#bd3786\"], [0.5555555555555556, \"#d8576b\"], [0.6666666666666666, \"#ed7953\"], [0.7777777777777778, \"#fb9f3a\"], [0.8888888888888888, \"#fdca26\"], [1.0, \"#f0f921\"]], \"type\": \"surface\"}], \"table\": [{\"cells\": {\"fill\": {\"color\": \"#EBF0F8\"}, \"line\": {\"color\": \"white\"}}, \"header\": {\"fill\": {\"color\": \"#C8D4E3\"}, \"line\": {\"color\": \"white\"}}, \"type\": \"table\"}]}, \"layout\": {\"annotationdefaults\": {\"arrowcolor\": \"#2a3f5f\", \"arrowhead\": 0, \"arrowwidth\": 1}, \"autotypenumbers\": \"strict\", \"coloraxis\": {\"colorbar\": {\"outlinewidth\": 0, \"ticks\": \"\"}}, \"colorscale\": {\"diverging\": [[0, \"#8e0152\"], [0.1, \"#c51b7d\"], [0.2, \"#de77ae\"], [0.3, \"#f1b6da\"], [0.4, \"#fde0ef\"], [0.5, \"#f7f7f7\"], [0.6, \"#e6f5d0\"], [0.7, \"#b8e186\"], [0.8, \"#7fbc41\"], [0.9, \"#4d9221\"], [1, \"#276419\"]], \"sequential\": [[0.0, \"#0d0887\"], [0.1111111111111111, \"#46039f\"], [0.2222222222222222, \"#7201a8\"], [0.3333333333333333, \"#9c179e\"], [0.4444444444444444, \"#bd3786\"], [0.5555555555555556, \"#d8576b\"], [0.6666666666666666, \"#ed7953\"], [0.7777777777777778, \"#fb9f3a\"], [0.8888888888888888, \"#fdca26\"], [1.0, \"#f0f921\"]], \"sequentialminus\": [[0.0, \"#0d0887\"], [0.1111111111111111, \"#46039f\"], [0.2222222222222222, \"#7201a8\"], [0.3333333333333333, \"#9c179e\"], [0.4444444444444444, \"#bd3786\"], [0.5555555555555556, \"#d8576b\"], [0.6666666666666666, \"#ed7953\"], [0.7777777777777778, \"#fb9f3a\"], [0.8888888888888888, \"#fdca26\"], [1.0, \"#f0f921\"]]}, \"colorway\": [\"#636efa\", \"#EF553B\", \"#00cc96\", \"#ab63fa\", \"#FFA15A\", \"#19d3f3\", \"#FF6692\", \"#B6E880\", \"#FF97FF\", \"#FECB52\"], \"font\": {\"color\": \"#2a3f5f\"}, \"geo\": {\"bgcolor\": \"white\", \"lakecolor\": \"white\", \"landcolor\": \"#E5ECF6\", \"showlakes\": true, \"showland\": true, \"subunitcolor\": \"white\"}, \"hoverlabel\": {\"align\": \"left\"}, \"hovermode\": \"closest\", \"mapbox\": {\"style\": \"light\"}, \"paper_bgcolor\": \"white\", \"plot_bgcolor\": \"#E5ECF6\", \"polar\": {\"angularaxis\": {\"gridcolor\": \"white\", \"linecolor\": \"white\", \"ticks\": \"\"}, \"bgcolor\": \"#E5ECF6\", \"radialaxis\": {\"gridcolor\": \"white\", \"linecolor\": \"white\", \"ticks\": \"\"}}, \"scene\": {\"xaxis\": {\"backgroundcolor\": \"#E5ECF6\", \"gridcolor\": \"white\", \"gridwidth\": 2, \"linecolor\": \"white\", \"showbackground\": true, \"ticks\": \"\", \"zerolinecolor\": \"white\"}, \"yaxis\": {\"backgroundcolor\": \"#E5ECF6\", \"gridcolor\": \"white\", \"gridwidth\": 2, \"linecolor\": \"white\", \"showbackground\": true, \"ticks\": \"\", \"zerolinecolor\": \"white\"}, \"zaxis\": {\"backgroundcolor\": \"#E5ECF6\", \"gridcolor\": \"white\", \"gridwidth\": 2, \"linecolor\": \"white\", \"showbackground\": true, \"ticks\": \"\", \"zerolinecolor\": \"white\"}}, \"shapedefaults\": {\"line\": {\"color\": \"#2a3f5f\"}}, \"ternary\": {\"aaxis\": {\"gridcolor\": \"white\", \"linecolor\": \"white\", \"ticks\": \"\"}, \"baxis\": {\"gridcolor\": \"white\", \"linecolor\": \"white\", \"ticks\": \"\"}, \"bgcolor\": \"#E5ECF6\", \"caxis\": {\"gridcolor\": \"white\", \"linecolor\": \"white\", \"ticks\": \"\"}}, \"title\": {\"x\": 0.05}, \"xaxis\": {\"automargin\": true, \"gridcolor\": \"white\", \"linecolor\": \"white\", \"ticks\": \"\", \"title\": {\"standoff\": 15}, \"zerolinecolor\": \"white\", \"zerolinewidth\": 2}, \"yaxis\": {\"automargin\": true, \"gridcolor\": \"white\", \"linecolor\": \"white\", \"ticks\": \"\", \"title\": {\"standoff\": 15}, \"zerolinecolor\": \"white\", \"zerolinewidth\": 2}}}, \"xaxis\": {\"anchor\": \"y\", \"domain\": [0.0, 1.0], \"title\": {\"text\": \"x\"}}, \"yaxis\": {\"anchor\": \"x\", \"domain\": [0.0, 1.0], \"title\": {\"text\": \"y\"}}},                        {\"responsive\": true}                    ).then(function(){\n",
       "                            \n",
       "var gd = document.getElementById('f1c123ca-aa2f-42b5-8d66-7ea836e2c325');\n",
       "var x = new MutationObserver(function (mutations, observer) {{\n",
       "        var display = window.getComputedStyle(gd).display;\n",
       "        if (!display || display === 'none') {{\n",
       "            console.log([gd, 'removed!']);\n",
       "            Plotly.purge(gd);\n",
       "            observer.disconnect();\n",
       "        }}\n",
       "}});\n",
       "\n",
       "// Listen for the removal of the full notebook cells\n",
       "var notebookContainer = gd.closest('#notebook-container');\n",
       "if (notebookContainer) {{\n",
       "    x.observe(notebookContainer, {childList: true});\n",
       "}}\n",
       "\n",
       "// Listen for the clearing of the current output cell\n",
       "var outputEl = gd.closest('.output');\n",
       "if (outputEl) {{\n",
       "    x.observe(outputEl, {childList: true});\n",
       "}}\n",
       "\n",
       "                        })                };                });            </script>        </div>"
      ]
     },
     "metadata": {},
     "output_type": "display_data"
    }
   ],
   "source": [
    "X = df_mean[['col_'+str(i) for i in range(1,parameter_dict_model['multimodal_latent_dim']+1)]].to_numpy()\n",
    "Y_hue = df_mean['label'].to_numpy()\n",
    "clust_size = df_mean['sample_no'].to_numpy()\n",
    "plot_bubbles(X, clust_size, Y_hue)"
   ]
  },
  {
   "cell_type": "code",
   "execution_count": 42,
   "metadata": {},
   "outputs": [
    {
     "data": {
      "text/plain": [
       "<seaborn.axisgrid.FacetGrid at 0x7f5bf77bb7f0>"
      ]
     },
     "execution_count": 42,
     "metadata": {},
     "output_type": "execute_result"
    },
    {
     "data": {
      "image/png": "[encoded data removed]",
      "text/plain": [
       "<Figure size 411.875x360 with 1 Axes>"
      ]
     },
     "metadata": {
      "needs_background": "light"
     },
     "output_type": "display_data"
    }
   ],
   "source": [
    "sns.displot(data=df_mean, x=\"sample_no\", hue=\"label\", kind=\"kde\")"
   ]
  },
  {
   "cell_type": "code",
   "execution_count": null,
   "metadata": {},
   "outputs": [],
   "source": []
  }
 ],
 "metadata": {
  "kernelspec": {
   "display_name": "Python 3",
   "language": "python",
   "name": "python3"
  },
  "language_info": {
   "codemirror_mode": {
    "name": "ipython",
    "version": 3
   },
   "file_extension": ".py",
   "mimetype": "text/x-python",
   "name": "python",
   "nbconvert_exporter": "python",
   "pygments_lexer": "ipython3",
   "version": "3.6.12"
  }
 },
 "nbformat": 4,
 "nbformat_minor": 2
}
